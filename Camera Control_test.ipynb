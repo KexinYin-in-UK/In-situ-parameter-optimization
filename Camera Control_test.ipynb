{
 "cells": [
  {
   "cell_type": "code",
   "execution_count": 1,
   "id": "eff6178e-4097-4d04-886a-bfcead587d66",
   "metadata": {},
   "outputs": [
    {
     "name": "stdout",
     "output_type": "stream",
     "text": [
      "Opening first camera...\n",
      "Starting data acquisition...\n",
      "4.0613062381744385\n"
     ]
    }
   ],
   "source": [
    "from ximea import xiapi\n",
    "import cv2   \n",
    "import time\n",
    "\n",
    "t0 = time.time()\n",
    "#create instance for first connected camera \n",
    "cam = xiapi.Camera()\n",
    "\n",
    "#start communication\n",
    "print('Opening first camera...')\n",
    "cam.open_device()\n",
    "\n",
    "#settings\n",
    "cam.set_exposure(8000)\n",
    "\n",
    "#create instance of Image to store image data and metadata\n",
    "img = xiapi.Image()\n",
    "\n",
    "#start data acquisition\n",
    "print('Starting data acquisition...')\n",
    "cam.start_acquisition()\n",
    "t1 = time.time()\n",
    "delta_t = t1 - t0\n",
    "print(delta_t)\n"
   ]
  },
  {
   "cell_type": "code",
   "execution_count": 3,
   "id": "8fd1aa73-d014-4c2d-8928-20fbba3471c0",
   "metadata": {},
   "outputs": [
    {
     "name": "stdout",
     "output_type": "stream",
     "text": [
      "Done.\n",
      "Done.\n",
      "Done.\n",
      "Done.\n",
      "Done.\n",
      "Done.\n",
      "Done.\n",
      "Done.\n"
     ]
    }
   ],
   "source": [
    "for i in range(1, 9):\n",
    "\n",
    "    #get data and pass them from camera to img\n",
    "    cam.get_image(img)\n",
    "    \n",
    "    #create numpy array with data from camera. Dimensions of array are determined\n",
    "    #by imgdataformat\n",
    "    data = img.get_image_data_numpy()\n",
    "    \n",
    "    #show acquired image\n",
    "    #print('Drawing image...')\n",
    "    #cv2.imshow('XiCAM example', data)\n",
    "    #cv2.waitKey(0)\n",
    "    #cv2.destroyAllWindows()\n",
    "    \n",
    "    filename = f\"{'parameter_1_'}{i}.tiff\"\n",
    "    cv2.imwrite(filename, data)\n",
    "    print('Done.')\n",
    "\n",
    "    time.sleep(3.01)"
   ]
  },
  {
   "cell_type": "code",
   "execution_count": null,
   "id": "69d82ad7-e782-4ea8-81dd-6f737df87b5a",
   "metadata": {},
   "outputs": [],
   "source": [
    "for i in range(9, 17):\n",
    "    \n",
    "    #get data and pass them from camera to img\n",
    "    cam.get_image(img)\n",
    "    \n",
    "    #create numpy array with data from camera. Dimensions of array are determined\n",
    "    #by imgdataformat\n",
    "    data = img.get_image_data_numpy()\n",
    "    \n",
    "    #show acquired image\n",
    "    #print('Drawing image...')\n",
    "    #cv2.imshow('XiCAM example', data)\n",
    "    #cv2.waitKey(0)\n",
    "    #cv2.destroyAllWindows()\n",
    "    \n",
    "    filename = f\"{'parameter_1_'}{i}.tiff\"\n",
    "    cv2.imwrite(filename, data)\n",
    "    print('Done.')\n",
    "\n",
    "    time.sleep(3.01)"
   ]
  },
  {
   "cell_type": "code",
   "execution_count": null,
   "id": "db2a961b-5bc5-44de-b10c-e94b90839d47",
   "metadata": {},
   "outputs": [],
   "source": [
    "for i in range(17, 25):\n",
    "    \n",
    "    #get data and pass them from camera to img\n",
    "    cam.get_image(img)\n",
    "    \n",
    "    #create numpy array with data from camera. Dimensions of array are determined\n",
    "    #by imgdataformat\n",
    "    data = img.get_image_data_numpy()\n",
    "    \n",
    "    #show acquired image\n",
    "    #print('Drawing image...')\n",
    "    #cv2.imshow('XiCAM example', data)\n",
    "    #cv2.waitKey(0)\n",
    "    #cv2.destroyAllWindows()\n",
    "    \n",
    "    filename = f\"{'parameter_1_'}{i}.tiff\"\n",
    "    cv2.imwrite(filename, data)\n",
    "    print('Done.')\n",
    "    \n",
    "    time.sleep(3.01)"
   ]
  },
  {
   "cell_type": "code",
   "execution_count": null,
   "id": "fa983a95-2f4d-40b6-b0d6-283d0ca67e3e",
   "metadata": {},
   "outputs": [],
   "source": [
    "for i in range(25, 33):\n",
    "    \n",
    "    #get data and pass them from camera to img\n",
    "    cam.get_image(img)\n",
    "    \n",
    "    #create numpy array with data from camera. Dimensions of array are determined\n",
    "    #by imgdataformat\n",
    "    data = img.get_image_data_numpy()\n",
    "    \n",
    "    #show acquired image\n",
    "    #print('Drawing image...')\n",
    "    #cv2.imshow('XiCAM example', data)\n",
    "    #cv2.waitKey(0)\n",
    "    #cv2.destroyAllWindows()\n",
    "    \n",
    "    filename = f\"{'parameter_1_'}{i}.tiff\"\n",
    "    cv2.imwrite(filename, data)\n",
    "    print('Done.')\n",
    "    \n",
    "    time.sleep(3.01)"
   ]
  },
  {
   "cell_type": "code",
   "execution_count": null,
   "id": "fb3c5fee-4b53-4a99-a036-51f537e07050",
   "metadata": {},
   "outputs": [],
   "source": [
    "#stop data acquisition\n",
    "print('Stopping acquisition...')\n",
    "cam.stop_acquisition()\n",
    "\n",
    "#stop communication\n",
    "cam.close_device()"
   ]
  }
 ],
 "metadata": {
  "kernelspec": {
   "display_name": "Python 3 (ipykernel)",
   "language": "python",
   "name": "python3"
  },
  "language_info": {
   "codemirror_mode": {
    "name": "ipython",
    "version": 3
   },
   "file_extension": ".py",
   "mimetype": "text/x-python",
   "name": "python",
   "nbconvert_exporter": "python",
   "pygments_lexer": "ipython3",
   "version": "3.11.4"
  }
 },
 "nbformat": 4,
 "nbformat_minor": 5
}
